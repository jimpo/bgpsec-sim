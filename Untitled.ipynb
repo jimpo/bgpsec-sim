{
 "cells": [
  {
   "cell_type": "code",
   "execution_count": 2,
   "metadata": {},
   "outputs": [],
   "source": [
    "import bgpsecsim.as_graph as as_graph\n",
    "\n",
    "AS_REL_FILE = 'caida-data/20200401.as-rel.txt'\n",
    "nx_graph = as_graph.parse_as_rel_file(AS_REL_FILE)"
   ]
  },
  {
   "cell_type": "code",
   "execution_count": 2,
   "metadata": {},
   "outputs": [],
   "source": [
    "import random\n",
    "\n",
    "n_trials = 48\n",
    "as_ids = list(nx_graph.nodes)\n",
    "trials = [random.choices(as_ids, k=2) for _ in range(n_trials)]"
   ]
  },
  {
   "cell_type": "code",
   "execution_count": 3,
   "metadata": {},
   "outputs": [
    {
     "name": "stdout",
     "output_type": "stream",
     "text": [
      "Next-AS (deployment = 0) 0\n",
      "Next-AS (deployment = 10) 10\n",
      "Next-AS (deployment = 20) 20\n",
      "Next-AS (deployment = 30) 30\n",
      "Next-AS (deployment = 40) 40\n",
      "Next-AS (deployment = 50) 50\n",
      "Next-AS (deployment = 60) 60\n",
      "Next-AS (deployment = 70) 70\n",
      "Next-AS (deployment = 80) 80\n",
      "Next-AS (deployment = 90) 90\n",
      "Next-AS (deployment = 100) 100\n",
      "Next-AS:  [0.10896867745686162, 0.058087652004036774, 0.04439007618216117, 0.040217071975633414, 0.0391178216609784, 0.03839004649137577, 0.03438251492503854, 0.032506996616215644, 0.03080589367703495, 0.030691350589132735, 0.0306012346135422]\n",
      "BGPsec in partial deployment (deployment = 0)\n",
      "BGPsec in partial deployment (deployment = 10)\n",
      "BGPsec in partial deployment (deployment = 20)\n",
      "BGPsec in partial deployment (deployment = 30)\n",
      "BGPsec in partial deployment (deployment = 40)\n",
      "BGPsec in partial deployment (deployment = 50)\n",
      "BGPsec in partial deployment (deployment = 60)\n",
      "BGPsec in partial deployment (deployment = 70)\n",
      "BGPsec in partial deployment (deployment = 80)\n",
      "BGPsec in partial deployment (deployment = 90)\n",
      "BGPsec in partial deployment (deployment = 100)\n",
      "BGPsec in partial deployment:  [0.10896867745686162, 0.10896867745686162, 0.10896867745686162, 0.10896867745686162, 0.10896867745686162, 0.10896867745686162, 0.10896867745686162, 0.10896867745686162, 0.10896867745686162, 0.10896867745686162, 0.10896867745686162]\n",
      "2-hop:  0.055018096409614546\n",
      "RPKI (full deployment):  0.10896867745686162\n",
      "BGPsec (full deployment, legacy allowed):  0.04646834366292299\n"
     ]
    }
   ],
   "source": [
    "import statistics\n",
    "\n",
    "from bgpsecsim.as_graph import ASGraph\n",
    "import bgpsecsim.experiments as experiments\n",
    "\n",
    "def mean(seq):\n",
    "    return float(statistics.mean(seq))\n",
    "\n",
    "line1_results = []\n",
    "for deployment in range(0, 110, 10):\n",
    "    print(f\"Next-AS (deployment = {deployment})\", deployment)\n",
    "    line1_results.append(mean(experiments.figure2a_line_1_next_as(nx_graph, deployment, trials)))\n",
    "print(\"Next-AS: \", line1_results)\n",
    "\n",
    "line2_results = []\n",
    "for deployment in range(0, 110, 10):\n",
    "    print(f\"BGPsec in partial deployment (deployment = {deployment})\")\n",
    "    line2_results.append(mean(experiments.figure2a_line_2_bgpsec_partial(nx_graph, deployment, trials)))\n",
    "print(\"BGPsec in partial deployment: \", line2_results)\n",
    "\n",
    "line3_results = mean(experiments.figure2a_line_3_two_hop(nx_graph, trials))\n",
    "print(\"2-hop: \", line3_results)\n",
    "\n",
    "line4_results = mean(experiments.figure2a_line_4_rpki(nx_graph, trials))\n",
    "print(\"RPKI (full deployment): \", line4_results)\n",
    "\n",
    "line5_results = mean(experiments.figure2a_line_5_bgpsec_med_full(nx_graph, trials))\n",
    "print(\"BGPsec (full deployment, legacy allowed): \", line5_results)"
   ]
  },
  {
   "cell_type": "code",
   "execution_count": 4,
   "metadata": {},
   "outputs": [
    {
     "data": {
      "image/png": "[encoded data removed]",
      "text/plain": [
       "<Figure size 720x360 with 1 Axes>"
      ]
     },
     "metadata": {
      "needs_background": "light"
     },
     "output_type": "display_data"
    }
   ],
   "source": [
    "%matplotlib inline\n",
    "\n",
    "import numpy as np\n",
    "import matplotlib.pyplot as plt\n",
    "\n",
    "#print(\"BGPsec in partial deployment: \", line2_results)\n",
    "#line5_results = mean(experiments.figure2a_line_5_bgpsec_med_full(nx_graph, trials))\n",
    "#print(\"BGPsec (full deployment, legacy allowed): \", line5_results)\n",
    "\n",
    "deployment = np.arange(0, 110, 10)\n",
    "plt.figure(figsize=(10, 5))\n",
    "plt.plot(deployment, line1_results, label=\"Next-AS\")\n",
    "plt.plot(deployment, line2_results, label=\"BGPsec in partial deployment\")\n",
    "plt.plot(deployment, np.repeat(line3_results, 11), label=\"2-hop\")\n",
    "plt.plot(deployment, np.repeat(line4_results, 11), label=\"RPKI (full deployment)\", linestyle=\"--\")\n",
    "plt.plot(deployment, np.repeat(line5_results, 11), label=\"BGPsec (full deployment, legacy allowed)\", linestyle=\"--\")\n",
    "plt.legend()\n",
    "plt.xlabel(\"Deployment (top ISPs)\")\n",
    "plt.ylabel(\"Attacker's Success Rate\")\n",
    "plt.savefig('figure3a.png')"
   ]
  },
  {
   "cell_type": "code",
   "execution_count": 2,
   "metadata": {},
   "outputs": [],
   "source": [
    "from bgpsecsim.as_graph import ASGraph\n",
    "\n",
    "graph = ASGraph(nx_graph)\n",
    "reachability = graph.determine_reachability_all()"
   ]
  },
  {
   "cell_type": "code",
   "execution_count": 12,
   "metadata": {},
   "outputs": [
    {
     "data": {
      "text/plain": [
       "(68289, 67982)"
      ]
     },
     "execution_count": 12,
     "metadata": {},
     "output_type": "execute_result"
    }
   ],
   "source": [
    "# reachability = sorted(reachability.values())\n",
    "# reachability.reverse()\n",
    "len(reachability), max(reachability)"
   ]
  },
  {
   "cell_type": "code",
   "execution_count": 21,
   "metadata": {},
   "outputs": [
    {
     "data": {
      "text/plain": [
       "0.007072881430391424"
      ]
     },
     "execution_count": 21,
     "metadata": {},
     "output_type": "execute_result"
    }
   ],
   "source": [
    "import numpy as np\n",
    "\n",
    "np.sum(np.array(reachability) < len(reachability) * 0.99) / len(reachability)"
   ]
  },
  {
   "cell_type": "code",
   "execution_count": 16,
   "metadata": {},
   "outputs": [
    {
     "name": "stdout",
     "output_type": "stream",
     "text": [
      "58\n"
     ]
    }
   ],
   "source": [
    "import networkx as nx\n",
    "from typing import Generator, Optional\n",
    "\n",
    "def asyss_by_customer_count(\n",
    "        graph: nx.Graph,\n",
    "        min_count: Optional[int],\n",
    "        max_count: Optional[int]\n",
    ") -> Generator[int, None, None]:\n",
    "    for node in graph:\n",
    "        customer_count = sum((1\n",
    "                             for neighbor in graph[node]\n",
    "                             if graph[node][neighbor]['customer'] == neighbor))\n",
    "        if (min_count is None or min_count <= customer_count) and (max_count is None or max_count >= customer_count):\n",
    "            yield node\n",
    "\n",
    "print(sum((1 for _ in asyss_by_customer_count(nx_graph, 250, None) )))"
   ]
  },
  {
   "cell_type": "code",
   "execution_count": null,
   "metadata": {},
   "outputs": [],
   "source": []
  }
 ],
 "metadata": {
  "kernelspec": {
   "display_name": "Python 3",
   "language": "python",
   "name": "python3"
  },
  "language_info": {
   "codemirror_mode": {
    "name": "ipython",
    "version": 3
   },
   "file_extension": ".py",
   "mimetype": "text/x-python",
   "name": "python",
   "nbconvert_exporter": "python",
   "pygments_lexer": "ipython3",
   "version": "3.6.9"
  }
 },
 "nbformat": 4,
 "nbformat_minor": 4
}
