{
 "cells": [
  {
   "cell_type": "code",
   "execution_count": 1,
   "metadata": {},
   "outputs": [],
   "source": [
    "import bgpsecsim.as_graph as as_graph\n",
    "\n",
    "AS_REL_FILE = 'caida-data/20200401.as-rel.txt'\n",
    "nx_graph = as_graph.parse_as_rel_file(AS_REL_FILE)"
   ]
  },
  {
   "cell_type": "code",
   "execution_count": 7,
   "metadata": {},
   "outputs": [],
   "source": [
    "import random\n",
    "\n",
    "n_trials = 25\n",
    "as_ids = list(nx_graph.nodes)\n",
    "trials = [random.choices(as_ids, k=2) for _ in range(n_trials)]"
   ]
  },
  {
   "cell_type": "code",
   "execution_count": 4,
   "metadata": {},
   "outputs": [
    {
     "name": "stdout",
     "output_type": "stream",
     "text": [
      "Next-AS:  [Fraction(15, 67901), Fraction(1, 67809), Fraction(3457, 67928), Fraction(1, 67907), Fraction(1, 67893), Fraction(671, 33944), Fraction(610, 67881), Fraction(35, 33951), Fraction(1342, 67811), Fraction(34, 33919)]\n",
      "BGPsec in partial deployment:  [Fraction(15, 67901), Fraction(349, 67810), Fraction(4523, 67932), Fraction(7704, 67907), Fraction(12311, 67896), Fraction(345, 16972), Fraction(19897, 67926), Fraction(25, 22634), Fraction(14381, 67899), Fraction(5515, 67893)]\n",
      "2-hop:  [Fraction(11, 67901), Fraction(51, 13562), Fraction(173, 22644), Fraction(8, 67907), Fraction(249, 3772), Fraction(24, 4243), Fraction(3791, 33963), Fraction(10, 33951), Fraction(8056, 67899), Fraction(4894, 67893)]\n",
      "RPKI (full deployment):  [Fraction(15, 67901), Fraction(349, 67810), Fraction(4523, 67932), Fraction(7704, 67907), Fraction(12311, 67896), Fraction(345, 16972), Fraction(19897, 67926), Fraction(25, 22634), Fraction(14381, 67899), Fraction(5515, 67893)]\n",
      "BGPsec (full deployment, legacy allowed):  [Fraction(15, 67901), Fraction(287, 67810), Fraction(667, 11322), Fraction(6759, 67907), Fraction(5603, 33948), Fraction(353, 33944), Fraction(8992, 33963), Fraction(10, 33951), Fraction(12845, 67899), Fraction(1724, 22631)]\n",
      "BGPsec (full deployment, legacy allowed):  [Fraction(2, 67901), Fraction(51, 13562), Fraction(4, 999), Fraction(3, 67907), Fraction(245, 67896), Fraction(61, 67888), Fraction(331, 22642), Fraction(8, 33951), Fraction(8023, 67899), Fraction(695, 9699)]\n",
      "BGPsec (full deployment, legacy allowed):  [Fraction(1, 67901), Fraction(1, 67809), Fraction(5, 67926), Fraction(1, 67907), Fraction(1, 67893), Fraction(1, 67883), Fraction(6, 22627), Fraction(1, 67901), Fraction(1, 67810), Fraction(1, 67838)]\n"
     ]
    }
   ],
   "source": [
    "from bgpsecsim.as_graph import ASGraph\n",
    "import bgpsecsim.experiments as experiments\n",
    "\n",
    "line1_results = experiments.figure2a_line_1_next_as(nx_graph, 100, trials)\n",
    "print(\"Next-AS: \", line1_results)\n",
    "\n",
    "line2_results = experiments.figure2a_line_2_bgpsec_partial(nx_graph, 100, trials)\n",
    "print(\"BGPsec in partial deployment: \", line2_results)\n",
    "\n",
    "line3_results = experiments.figure2a_line_3_two_hop(nx_graph, trials)\n",
    "print(\"2-hop: \", line3_results)\n",
    "\n",
    "line4_results = experiments.figure2a_line_4_rpki(nx_graph, trials)\n",
    "print(\"RPKI (full deployment): \", line4_results)\n",
    "\n",
    "line51_results = experiments.figure2a_line_5_bgpsec_low_full(nx_graph, trials)\n",
    "print(\"BGPsec (full deployment, legacy allowed): \", line51_results)\n",
    "\n",
    "line52_results = experiments.figure2a_line_5_bgpsec_med_full(nx_graph, trials)\n",
    "print(\"BGPsec (full deployment, legacy allowed): \", line52_results)\n",
    "\n",
    "line53_results = experiments.figure2a_line_5_bgpsec_high_full(nx_graph, trials)\n",
    "print(\"BGPsec (full deployment, legacy allowed): \", line53_results)"
   ]
  },
  {
   "cell_type": "code",
   "execution_count": 6,
   "metadata": {},
   "outputs": [
    {
     "data": {
      "text/plain": [
       "[0.010173498555011495,\n",
       " 0.09741041192577087,\n",
       " 0.03859962502832012,\n",
       " 0.09741041192577087,\n",
       " 0.08687543722844406,\n",
       " 0.021701729591558257]"
      ]
     },
     "execution_count": 6,
     "metadata": {},
     "output_type": "execute_result"
    }
   ],
   "source": [
    "import statistics\n",
    "\n",
    "[line1_mean, line2_mean, line3_mean, line4_mean, line51_mean, line52_mean, line53_mean] = [\n",
    "    float(statistics.mean(results))\n",
    "    for results in [line1_results, line2_results, line3_results, line4_results, line51_results, line52_results, line53_results]\n",
    "]\n",
    "[line1_mean, line2_mean, line3_mean, line4_mean, line51_mean, line52_mean]"
   ]
  },
  {
   "cell_type": "code",
   "execution_count": null,
   "metadata": {},
   "outputs": [],
   "source": []
  }
 ],
 "metadata": {
  "kernelspec": {
   "display_name": "Python 3",
   "language": "python",
   "name": "python3"
  },
  "language_info": {
   "codemirror_mode": {
    "name": "ipython",
    "version": 3
   },
   "file_extension": ".py",
   "mimetype": "text/x-python",
   "name": "python",
   "nbconvert_exporter": "python",
   "pygments_lexer": "ipython3",
   "version": "3.6.9"
  }
 },
 "nbformat": 4,
 "nbformat_minor": 4
}
